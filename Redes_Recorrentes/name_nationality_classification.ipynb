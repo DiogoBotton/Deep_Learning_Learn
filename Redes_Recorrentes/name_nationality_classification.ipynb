{
 "cells": [
  {
   "cell_type": "code",
   "execution_count": 1,
   "id": "638b8d22",
   "metadata": {},
   "outputs": [],
   "source": [
    "from pathlib import Path\n",
    "import os\n",
    "import numpy as np\n",
    "import unicodedata\n",
    "import torch\n",
    "import string"
   ]
  },
  {
   "cell_type": "markdown",
   "id": "160e299d",
   "metadata": {},
   "source": [
    "### Adquirindo os dados\n",
    "\n",
    "[Download dos dados](https://download.pytorch.org/tutorial/data.zip)"
   ]
  },
  {
   "cell_type": "code",
   "execution_count": 2,
   "id": "659dc054",
   "metadata": {},
   "outputs": [
    {
     "data": {
      "text/plain": [
       "True"
      ]
     },
     "execution_count": 2,
     "metadata": {},
     "output_type": "execute_result"
    }
   ],
   "source": [
    "PATH_DATA = Path('data/names')\n",
    "os.path.exists(PATH_DATA)"
   ]
  },
  {
   "cell_type": "code",
   "execution_count": 3,
   "id": "f5aa4eeb",
   "metadata": {},
   "outputs": [],
   "source": [
    "def remove_accents(text):\n",
    "    # O decode ascii no final, serve para tirar a letra b (significa binary) do inicio dos nomes (b'nome')\n",
    "    return unicodedata.normalize('NFKD', text).encode('ascii', 'ignore')#.decode('ascii')"
   ]
  },
  {
   "cell_type": "code",
   "execution_count": 4,
   "id": "4c4c5f69",
   "metadata": {},
   "outputs": [
    {
     "name": "stdout",
     "output_type": "stream",
     "text": [
      "nomes:  20074\n",
      "nacionalidades:  20074\n"
     ]
    }
   ],
   "source": [
    "names = []\n",
    "labels = []\n",
    "\n",
    "# Adquire todos os caminhos de arquivos com extensão txt\n",
    "for path in PATH_DATA.glob('*.txt'):\n",
    "    # Abre cada arquivo txt no formato utf 8\n",
    "    with open(path, 'r', encoding='utf8') as f:\n",
    "        # Para cada linha no arquivo\n",
    "        for line in f:\n",
    "            # Remove os acentos do nome e a quebra de linha (\\n) e adiciona no array\n",
    "            names.append(remove_accents(line.replace('\\n', '')))\n",
    "            # Adiciona apenas o nome do arquivo, sem o caminho anterior e extensão no array\n",
    "            labels.append(path.stem)\n",
    "\n",
    "print('nomes: ', len(names))\n",
    "print('nacionalidades: ', len(labels))"
   ]
  },
  {
   "cell_type": "markdown",
   "id": "08bcea07",
   "metadata": {},
   "source": [
    "### Convertendo os dados para tensor\n",
    "\n",
    "Neste passo, será realizado a conversão dos dados e os rótulos para uma representação numérica (tensorial) que estará pronta para entrar na rede neural."
   ]
  },
  {
   "cell_type": "code",
   "execution_count": 5,
   "id": "646ad7d8",
   "metadata": {},
   "outputs": [],
   "source": [
    "# Cria uma lista que não permite valores duplicados\n",
    "labels_unique = sorted(list(set(labels)))\n",
    "\n",
    "def label_to_tensor(label):\n",
    "    # Baseado na label enviada pelo paramêtro, retorna o índice no array de labels\n",
    "    position = labels_unique.index(label)\n",
    "    # Retorna um tensor baseado na posição do índice\n",
    "    return torch.LongTensor([position])"
   ]
  },
  {
   "cell_type": "code",
   "execution_count": 6,
   "id": "084076e7",
   "metadata": {},
   "outputs": [
    {
     "data": {
      "text/plain": [
       "['Arabic',\n",
       " 'Chinese',\n",
       " 'Czech',\n",
       " 'Dutch',\n",
       " 'English',\n",
       " 'French',\n",
       " 'German',\n",
       " 'Greek',\n",
       " 'Irish',\n",
       " 'Italian',\n",
       " 'Japanese',\n",
       " 'Korean',\n",
       " 'Polish',\n",
       " 'Portuguese',\n",
       " 'Russian',\n",
       " 'Scottish',\n",
       " 'Spanish',\n",
       " 'Vietnamese']"
      ]
     },
     "execution_count": 6,
     "metadata": {},
     "output_type": "execute_result"
    }
   ],
   "source": [
    "labels_unique"
   ]
  },
  {
   "cell_type": "code",
   "execution_count": 7,
   "id": "63764282",
   "metadata": {},
   "outputs": [
    {
     "data": {
      "text/plain": [
       "tensor([17])"
      ]
     },
     "execution_count": 7,
     "metadata": {},
     "output_type": "execute_result"
    }
   ],
   "source": [
    "labels_tensor = [label_to_tensor(label) for label in labels]\n",
    "labels_tensor[-1]"
   ]
  },
  {
   "cell_type": "markdown",
   "id": "4640ebae",
   "metadata": {},
   "source": [
    "#### Convertendo os rótulos para tensor\n",
    "\n",
    "Representação One-Hot encoding para codificar os nomes"
   ]
  },
  {
   "cell_type": "code",
   "execution_count": 8,
   "id": "e91b6a62",
   "metadata": {},
   "outputs": [
    {
     "data": {
      "text/plain": [
       "'abcdefghijklmnopqrstuvwxyzABCDEFGHIJKLMNOPQRSTUVWXYZ'"
      ]
     },
     "execution_count": 8,
     "metadata": {},
     "output_type": "execute_result"
    }
   ],
   "source": [
    "dictionary = string.ascii_letters\n",
    "\n",
    "# Temos estas letras, porém, em outras linguas o espaço, hífen e apóstrofes fazem parte dos nomes de alguns países\n",
    "dictionary"
   ]
  },
  {
   "cell_type": "code",
   "execution_count": 9,
   "id": "5f18d645",
   "metadata": {},
   "outputs": [
    {
     "data": {
      "text/plain": [
       "\"abcdefghijklmnopqrstuvwxyzABCDEFGHIJKLMNOPQRSTUVWXYZ -'\""
      ]
     },
     "execution_count": 9,
     "metadata": {},
     "output_type": "execute_result"
    }
   ],
   "source": [
    "# Iremos adicionar estes caracteres no nosso dicionário\n",
    "dictionary = dictionary + \" -'\"\n",
    "dictionary"
   ]
  },
  {
   "cell_type": "markdown",
   "id": "01bf07c0",
   "metadata": {},
   "source": [
    "Para cada letra do nome, terá uma representação One Hot Encoding do tamanho do dicionário, ou seja, as colunas serão as letras do dicionário e os valores serão preenchidos com zeros (false) e apenas será 1 na posição referente do dicionário.\n",
    "\n",
    "Exemplo: Caso o nome for \"ana\", o índice 0 será true (que representa o valor a) na primeira letra, na segunda letra (n) o índice referente a letra n será true, e assim por diante."
   ]
  },
  {
   "cell_type": "code",
   "execution_count": 10,
   "id": "aaef696a",
   "metadata": {},
   "outputs": [],
   "source": [
    "def name_to_tensor(name):\n",
    "    # Será criado um array bi dimensional onde: \n",
    "    # A primeira dimensão representa cada letra do nome\n",
    "    # A segunda dimensão representa todas as letras do dicionário\n",
    "    name_tensor = torch.zeros(len(name), len(dictionary))\n",
    "    for idx, letter in enumerate(name.decode('utf-8')):\n",
    "        # Adquire o índice da letra (idx) no name_tensor\n",
    "        # Para o índice da letra no dicionário (segunda dimensão) define como 1 (true)\n",
    "        index = dictionary.find(letter) # Busca a letra no dicionário, caso não encontrar, retorna -1\n",
    "        name_tensor[idx][index] = 1\n",
    "        \n",
    "    return name_tensor"
   ]
  },
  {
   "cell_type": "code",
   "execution_count": null,
   "id": "b5bf1ef0",
   "metadata": {},
   "outputs": [
    {
     "data": {
      "text/plain": [
       "tensor([[0., 0., 0., 0., 0., 0., 0., 0., 0., 0., 0., 0., 0., 0., 0., 0., 0., 0.,\n",
       "         0., 0., 0., 0., 0., 0., 0., 0., 0., 0., 0., 0., 0., 0., 0., 0., 0., 0.,\n",
       "         0., 0., 0., 0., 0., 0., 0., 0., 0., 0., 0., 1., 0., 0., 0., 0., 0., 0.,\n",
       "         0.],\n",
       "        [0., 0., 0., 0., 0., 0., 0., 0., 0., 0., 0., 0., 0., 0., 0., 0., 0., 0.,\n",
       "         0., 0., 1., 0., 0., 0., 0., 0., 0., 0., 0., 0., 0., 0., 0., 0., 0., 0.,\n",
       "         0., 0., 0., 0., 0., 0., 0., 0., 0., 0., 0., 0., 0., 0., 0., 0., 0., 0.,\n",
       "         0.],\n",
       "        [0., 0., 0., 0., 0., 0., 0., 0., 0., 0., 0., 0., 0., 0., 0., 0., 0., 0.,\n",
       "         0., 0., 1., 0., 0., 0., 0., 0., 0., 0., 0., 0., 0., 0., 0., 0., 0., 0.,\n",
       "         0., 0., 0., 0., 0., 0., 0., 0., 0., 0., 0., 0., 0., 0., 0., 0., 0., 0.,\n",
       "         0.]])"
      ]
     },
     "execution_count": 12,
     "metadata": {},
     "output_type": "execute_result"
    }
   ],
   "source": [
    "names_tensor = [name_to_tensor(name) for name in names]\n",
    "names_tensor[-1] # Exibe o tensor do último nome"
   ]
  },
  {
   "cell_type": "markdown",
   "id": "19184598",
   "metadata": {},
   "source": [
    "#### Amostrando conjunto balaceado"
   ]
  },
  {
   "cell_type": "code",
   "execution_count": null,
   "id": "8af9e06c",
   "metadata": {},
   "outputs": [],
   "source": []
  }
 ],
 "metadata": {
  "kernelspec": {
   "display_name": "ai_env",
   "language": "python",
   "name": "python3"
  },
  "language_info": {
   "codemirror_mode": {
    "name": "ipython",
    "version": 3
   },
   "file_extension": ".py",
   "mimetype": "text/x-python",
   "name": "python",
   "nbconvert_exporter": "python",
   "pygments_lexer": "ipython3",
   "version": "3.12.10"
  }
 },
 "nbformat": 4,
 "nbformat_minor": 5
}
