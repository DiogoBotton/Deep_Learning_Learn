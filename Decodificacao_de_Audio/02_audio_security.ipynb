{
 "cells": [
  {
   "cell_type": "markdown",
   "id": "4e3d3211",
   "metadata": {},
   "source": [
    "### Criação de modelo voltado a segurança\n",
    "\n",
    "O nosso modelo agora será capaz de identificar diferentes tipos de áudio relacionados à segurança, como por exemplo, latidos de cachorro, vidros se quebrando, etc.\n",
    "\n",
    "Para isso, iremos utilizar um modelo pré-treinado pela Google chamado **Yamnet**, que por sua vez, já é capaz de realizar a classificação de áudio mais de 500 classes diferentes."
   ]
  }
 ],
 "metadata": {
  "language_info": {
   "name": "python"
  }
 },
 "nbformat": 4,
 "nbformat_minor": 5
}
