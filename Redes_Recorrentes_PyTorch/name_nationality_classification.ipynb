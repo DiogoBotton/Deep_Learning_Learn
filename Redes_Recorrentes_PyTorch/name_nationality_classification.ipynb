{
 "cells": [
  {
   "cell_type": "code",
   "execution_count": 30,
   "id": "638b8d22",
   "metadata": {},
   "outputs": [],
   "source": [
    "from pathlib import Path\n",
    "import os\n",
    "import pandas as pd\n",
    "import numpy as np\n",
    "import unicodedata"
   ]
  },
  {
   "cell_type": "markdown",
   "id": "160e299d",
   "metadata": {},
   "source": [
    "### Adquirindo os dados\n",
    "\n",
    "[Download dos dados](https://download.pytorch.org/tutorial/data.zip)"
   ]
  },
  {
   "cell_type": "code",
   "execution_count": 3,
   "id": "659dc054",
   "metadata": {},
   "outputs": [
    {
     "data": {
      "text/plain": [
       "True"
      ]
     },
     "execution_count": 3,
     "metadata": {},
     "output_type": "execute_result"
    }
   ],
   "source": [
    "PATH_DATA = Path('data/names')\n",
    "os.path.exists(PATH_DATA)"
   ]
  },
  {
   "cell_type": "code",
   "execution_count": 46,
   "id": "4c4c5f69",
   "metadata": {},
   "outputs": [
    {
     "name": "stdout",
     "output_type": "stream",
     "text": [
      "nomes:  20074\n",
      "nacionalidades:  20074\n"
     ]
    }
   ],
   "source": [
    "names = []\n",
    "labels = []\n",
    "\n",
    "for path in PATH_DATA.glob('*.txt'):\n",
    "    with open(path, 'r', encoding='utf8') as f:\n",
    "        for line in f:\n",
    "            name = unicodedata.normalize('NFKD', line.replace('\\n', ''))\n",
    "            names.append(name)\n",
    "            labels.append(path.stem)\n",
    "\n",
    "print('nomes: ', len(names))\n",
    "print('nacionalidades: ', len(labels))"
   ]
  }
 ],
 "metadata": {
  "kernelspec": {
   "display_name": "Python 3",
   "language": "python",
   "name": "python3"
  },
  "language_info": {
   "codemirror_mode": {
    "name": "ipython",
    "version": 3
   },
   "file_extension": ".py",
   "mimetype": "text/x-python",
   "name": "python",
   "nbconvert_exporter": "python",
   "pygments_lexer": "ipython3",
   "version": "3.12.10"
  }
 },
 "nbformat": 4,
 "nbformat_minor": 5
}
